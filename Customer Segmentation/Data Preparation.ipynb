{
 "cells": [
  {
   "cell_type": "code",
   "execution_count": 1,
   "metadata": {},
   "outputs": [],
   "source": [
    "%load_ext autoreload\n",
    "%autoreload 2\n",
    "%matplotlib inline\n",
    "%config InlineBackend.figure_format='retina'\n",
    "\n",
    "import pickle\n",
    "import os\n",
    "import itertools\n",
    "import datetime\n",
    "import random\n",
    "import missingno as msno\n",
    "import numpy as np\n",
    "import pandas as pd\n",
    "from pandas import DataFrame\n",
    "\n",
    "import matplotlib as mpl\n",
    "import matplotlib.cm as cm\n",
    "import matplotlib.pyplot as plt\n",
    "import seaborn as sns\n",
    "sns.set_style(\"darkgrid\", {\"axes.facecolor\": \".9\"})\n",
    "pd.set_option('max_columns', 1000) "
   ]
  },
  {
   "cell_type": "code",
   "execution_count": 2,
   "metadata": {},
   "outputs": [],
   "source": [
    "SAVE_PROCESSED_DATA = True"
   ]
  },
  {
   "cell_type": "code",
   "execution_count": 3,
   "metadata": {},
   "outputs": [],
   "source": [
    "scriptDir = os.getcwd()\n",
    "relPath = r\"../Customer Segmentation/\"\n",
    "sampleFilePath1 = os.path.join(scriptDir, relPath, 'CJ final data.xlsx')\n",
    "# sampleFilePath2 = os.path.join(scriptDir, relPath, 'CJ GP.xlsx')\n",
    "relPathOutput = r\"../output/\"\n",
    "outputFolderPath = os.path.join(scriptDir, relPathOutput)"
   ]
  },
  {
   "cell_type": "code",
   "execution_count": 5,
   "metadata": {},
   "outputs": [
    {
     "name": "stdout",
     "output_type": "stream",
     "text": [
      "Dataframe dimensions: (8809, 7)\n"
     ]
    }
   ],
   "source": [
    "cj = pd.read_excel(sampleFilePath1, header=0, encoding='latin1')\n",
    "# df2 = pd.read_excel(sampleFilePath2, header=0, encoding='latin1')\n",
    "print('Dataframe dimensions:', df1.shape)\n",
    "# print('Dataframe dimensions:', df2.shape)"
   ]
  },
  {
   "cell_type": "markdown",
   "metadata": {},
   "source": [
    "# Data Observation\n",
    "- Merge two sheet by the 'RawLabel'"
   ]
  },
  {
   "cell_type": "code",
   "execution_count": null,
   "metadata": {},
   "outputs": [],
   "source": [
    "# df3 = pd.merge(df1, df2, on=['Accountid', 'ownerid', 'enqid'], how='left')"
   ]
  },
  {
   "cell_type": "markdown",
   "metadata": {},
   "source": [
    "|Variable Name: | Variable Description: |\n",
    "|-- |-- |\n",
    "|**enqid** | Nominal, a integral number uniquely assiged to ??? ignore |\n",
    "|**contactid** | Nominal, a integral number uniquely assiged to each order |\n",
    "|**ownerid** | Nominal,  a integral number uniquely assiged to each distinct operator |\n",
    "|**companyid** | Nominal,  a integral number uniquely assiged to each distinct company|\n",
    "|**Industry** | Nomial|\n",
    "|**Office Country Code** | Nomial, Same as Fiscal|\n",
    "|**booked date** | Numerical, the day and time when each order was booked|\n",
    "|**creation date** | Numerical, the day and time when each order was confirmed |\n",
    "|**Flight date** | Numerical, the day and time when AP received the money|\n",
    "|**Flight Year** | Numerical|\n",
    "|**Route Code**| Nomial, the route for each transaction| \n",
    "|**Aircraft code**| Nomial, type of aircraft|\n",
    "|**no of sectors**| Numerical, transit time|\n",
    "|**passengers** | Numerical, number of passengier|\n",
    "|**Total Flight Time(Dec)** | Numerical, length of each flight|\n",
    "|**Total Distance (NMi)** | Numerical, distance for the trip|\n",
    "|**gross** | Numerical|\n",
    "|**Gross Margin** | categorical|"
   ]
  },
  {
   "cell_type": "markdown",
   "metadata": {},
   "source": [
    "**Which features are categorical?**\n",
    "- Categorical: Office country code, Job status, industrycode, aircraftcode, routecode\n",
    "\n",
    "**Which are time features?**\n",
    "- Time feature: booked date, creation date, Flight date, Flight Year\n",
    "\n",
    "**Which features are numerical?**\n",
    "- Numerical: no of sectors, passengers, Total Flight Time, Total Distance, gross, cost, Gross Margin"
   ]
  },
  {
   "cell_type": "code",
   "execution_count": null,
   "metadata": {
    "cell_style": "split"
   },
   "outputs": [],
   "source": [
    "df3.head()"
   ]
  },
  {
   "cell_type": "code",
   "execution_count": null,
   "metadata": {
    "cell_style": "split",
    "scrolled": true
   },
   "outputs": [],
   "source": [
    "df3.info()"
   ]
  },
  {
   "cell_type": "markdown",
   "metadata": {},
   "source": [
    "**Which features contain blank, null or empty values?**\n",
    "- Aircraft code > Route code contain a number of null values\n",
    "- passengers contains a number of 0 values"
   ]
  },
  {
   "cell_type": "markdown",
   "metadata": {},
   "source": [
    "## Data Cleaning\n",
    "- Filter the data for CJ department"
   ]
  },
  {
   "cell_type": "code",
   "execution_count": null,
   "metadata": {},
   "outputs": [],
   "source": [
    "df3 = df3[(df3['Product'] != 'Tour Ops')]\n",
    "df3 = df3.drop(['margin_x', 'data_x', 'data_y'], axis=1)\n",
    "df3 = df3.rename(columns={'margin_y':'Margin'})"
   ]
  },
  {
   "cell_type": "code",
   "execution_count": null,
   "metadata": {},
   "outputs": [],
   "source": [
    "df3[df3['Margin'] >= 5]"
   ]
  },
  {
   "cell_type": "markdown",
   "metadata": {},
   "source": [
    "## Assumptions based on data analysis\n",
    "- Correlating: we want to know how well does each feature correlate with ProfitMargin.We want to do this early in our project and match these quick correlations with modelled correlations later in the project.\n",
    "- Completing: We might need to complete the columns if it is necessary\n",
    "- Correlating: \n",
    "    1. A lot of features used 0 instead of NULL, but it will affect the model, we may need to fill the 0 with other number.\n",
    "    2. route code is relatively non-standard as it contains high ratio of duplicate (40%), so maybe dropped.\n",
    "    3. the combination of aircrafts need to be tranformed to another type of data.\n",
    "- Creating: \n",
    "    1. We may want to create a new feature called round trip based on route code to get the understanding of route\n",
    "    2. We may want to engineer the office country code to extract the country as a new feature\n",
    "    3. We may also want to create a discount range feature\n",
    "    4. Industry columns might have too many categories, and we may need to encode them in another format\n",
    "- Classifying: We may aslo add to our assumptions based on the problem description noted earlier.\n",
    "    1. Single trip (Round trip = 0) were more likely to have a better discount.\n",
    "    2. government were more likely to have a better discount./ sports may have a high limit on the budget.\n",
    "    3. The SA based country (country=Saudi Arabia) were more likely to have a better discount."
   ]
  },
  {
   "cell_type": "markdown",
   "metadata": {},
   "source": [
    "### Creating new feature extracting from existing\n",
    "- 'Gross Margin'\n",
    "- 'Country'\n",
    "- 'Round_trip'"
   ]
  },
  {
   "cell_type": "code",
   "execution_count": null,
   "metadata": {},
   "outputs": [],
   "source": [
    "# cj = cj.rename(columns={'Margin_EnqNo_GBP_CALC':'gross', 'CostToClient_Total_GBP_CALC':'Cost'})"
   ]
  },
  {
   "cell_type": "code",
   "execution_count": null,
   "metadata": {},
   "outputs": [],
   "source": [
    "# def country_tranfrom(dataset):\n",
    "#     country_mapping = {'IT':'Italy', 'FR':'France', 'DE':'Germany', 'UK':'United Kingdom',\n",
    "#                        'AT':'Austria', 'US':'United States', 'CH':'Switzerland', 'MC':'Monaco',\n",
    "#                        'TR':'Turkey', 'SE':'Sweden', 'AE':'United Arab Emirates', 'unknown': 'Other'}\n",
    "#     dataset['Country'] = dataset['Office Country Code'].map(country_mapping)\n",
    "\n",
    "# country_tranfrom(cj)"
   ]
  },
  {
   "cell_type": "code",
   "execution_count": null,
   "metadata": {},
   "outputs": [],
   "source": [
    "# cj = cj.dropna(subset=['Route code'])\n",
    "# cj['Route code'] = cj['Route code'].map(lambda x:str(x))\n",
    "\n",
    "# Route_code = list(cj['Route code'])\n",
    "# round_trip = []\n",
    "# for i in range(len(Route_code)):\n",
    "#     if Route_code[i][:3] == Route_code[i][-3:]:\n",
    "#         round_trip.append(1)\n",
    "#     else:\n",
    "#         round_trip.append(0)\n",
    "# cj['Round_trip'] = round_trip"
   ]
  },
  {
   "cell_type": "code",
   "execution_count": null,
   "metadata": {},
   "outputs": [],
   "source": [
    "# cj.to_csv('CJ data.csv')"
   ]
  },
  {
   "cell_type": "markdown",
   "metadata": {},
   "source": [
    "## Visualize the missing-ness of data"
   ]
  },
  {
   "cell_type": "code",
   "execution_count": null,
   "metadata": {},
   "outputs": [],
   "source": [
    "# cj = pd.read_excel(sampleFilePath, sep=',', header=0, quotechar='\"', encoding='latin1')"
   ]
  },
  {
   "cell_type": "code",
   "execution_count": 6,
   "metadata": {},
   "outputs": [
    {
     "data": {
      "text/html": [
       "<div>\n",
       "<style scoped>\n",
       "    .dataframe tbody tr th:only-of-type {\n",
       "        vertical-align: middle;\n",
       "    }\n",
       "\n",
       "    .dataframe tbody tr th {\n",
       "        vertical-align: top;\n",
       "    }\n",
       "\n",
       "    .dataframe thead th {\n",
       "        text-align: right;\n",
       "    }\n",
       "</style>\n",
       "<table border=\"1\" class=\"dataframe\">\n",
       "  <thead>\n",
       "    <tr style=\"text-align: right;\">\n",
       "      <th></th>\n",
       "      <th>product</th>\n",
       "      <th>brokercountry</th>\n",
       "      <th>owner</th>\n",
       "    </tr>\n",
       "  </thead>\n",
       "  <tbody>\n",
       "    <tr>\n",
       "      <th>count</th>\n",
       "      <td>8809</td>\n",
       "      <td>8809</td>\n",
       "      <td>8809</td>\n",
       "    </tr>\n",
       "    <tr>\n",
       "      <th>unique</th>\n",
       "      <td>2</td>\n",
       "      <td>7</td>\n",
       "      <td>62</td>\n",
       "    </tr>\n",
       "    <tr>\n",
       "      <th>top</th>\n",
       "      <td>Tour Ops</td>\n",
       "      <td>France</td>\n",
       "      <td>TELFAS</td>\n",
       "    </tr>\n",
       "    <tr>\n",
       "      <th>freq</th>\n",
       "      <td>5836</td>\n",
       "      <td>3692</td>\n",
       "      <td>3004</td>\n",
       "    </tr>\n",
       "  </tbody>\n",
       "</table>\n",
       "</div>"
      ],
      "text/plain": [
       "         product brokercountry   owner\n",
       "count       8809          8809    8809\n",
       "unique         2             7      62\n",
       "top     Tour Ops        France  TELFAS\n",
       "freq        5836          3692    3004"
      ]
     },
     "execution_count": 6,
     "metadata": {},
     "output_type": "execute_result"
    }
   ],
   "source": [
    "cj.describe(include=['O'])"
   ]
  },
  {
   "cell_type": "code",
   "execution_count": 7,
   "metadata": {},
   "outputs": [
    {
     "data": {
      "image/png": "[encoded data removed]",
      "text/plain": [
       "<Figure size 936x504 with 2 Axes>"
      ]
     },
     "metadata": {
      "image/png": {
       "height": 508,
       "width": 787
      },
      "needs_background": "light"
     },
     "output_type": "display_data"
    }
   ],
   "source": [
    "msno.matrix(cj.sample(500),\n",
    "           figsize=(13,7),\n",
    "           width_ratios=(15,1))\n",
    "plt.savefig('msno.png', dpi=72)\n",
    "plt.show()"
   ]
  },
  {
   "cell_type": "code",
   "execution_count": 8,
   "metadata": {},
   "outputs": [
    {
     "data": {
      "text/html": [
       "<div>\n",
       "<style scoped>\n",
       "    .dataframe tbody tr th:only-of-type {\n",
       "        vertical-align: middle;\n",
       "    }\n",
       "\n",
       "    .dataframe tbody tr th {\n",
       "        vertical-align: top;\n",
       "    }\n",
       "\n",
       "    .dataframe thead th {\n",
       "        text-align: right;\n",
       "    }\n",
       "</style>\n",
       "<table border=\"1\" class=\"dataframe\">\n",
       "  <thead>\n",
       "    <tr style=\"text-align: right;\">\n",
       "      <th></th>\n",
       "      <th>Accountid</th>\n",
       "      <th>enqid</th>\n",
       "      <th>product</th>\n",
       "      <th>brokercountry</th>\n",
       "      <th>owner</th>\n",
       "      <th>qtq_firstflightdate</th>\n",
       "      <th>Grossprofit</th>\n",
       "    </tr>\n",
       "  </thead>\n",
       "  <tbody>\n",
       "    <tr>\n",
       "      <th>column type</th>\n",
       "      <td>int64</td>\n",
       "      <td>int64</td>\n",
       "      <td>object</td>\n",
       "      <td>object</td>\n",
       "      <td>object</td>\n",
       "      <td>datetime64[ns]</td>\n",
       "      <td>float64</td>\n",
       "    </tr>\n",
       "    <tr>\n",
       "      <th>null values (nb)</th>\n",
       "      <td>0</td>\n",
       "      <td>0</td>\n",
       "      <td>0</td>\n",
       "      <td>0</td>\n",
       "      <td>0</td>\n",
       "      <td>0</td>\n",
       "      <td>0</td>\n",
       "    </tr>\n",
       "    <tr>\n",
       "      <th>null values (%)</th>\n",
       "      <td>0</td>\n",
       "      <td>0</td>\n",
       "      <td>0</td>\n",
       "      <td>0</td>\n",
       "      <td>0</td>\n",
       "      <td>0</td>\n",
       "      <td>0</td>\n",
       "    </tr>\n",
       "  </tbody>\n",
       "</table>\n",
       "</div>"
      ],
      "text/plain": [
       "                 Accountid  enqid product brokercountry   owner  \\\n",
       "column type          int64  int64  object        object  object   \n",
       "null values (nb)         0      0       0             0       0   \n",
       "null values (%)          0      0       0             0       0   \n",
       "\n",
       "                 qtq_firstflightdate Grossprofit  \n",
       "column type           datetime64[ns]     float64  \n",
       "null values (nb)                   0           0  \n",
       "null values (%)                    0           0  "
      ]
     },
     "metadata": {},
     "output_type": "display_data"
    }
   ],
   "source": [
    "tab_info = pd.DataFrame(cj.dtypes).T.rename(index={0:'column type'})\n",
    "tab_info = tab_info.append(pd.DataFrame(cj.isnull().sum()).T.rename(index={0:'null values (nb)'}))\n",
    "tab_info = tab_info.append(pd.DataFrame(cj.isnull().sum()/cj.shape[0]*100).T.\n",
    "                         rename(index={0:'null values (%)'}))\n",
    "display(tab_info)"
   ]
  },
  {
   "cell_type": "markdown",
   "metadata": {},
   "source": [
    "### Analyze by pivoting features\n",
    "To confirm some of our observations and assumptions, we can quickly analyze our feature correlations by pivoting features against each other.\n",
    "- **Country**: We observe significant average gross contribution from US (classifying#3).\n",
    "- **Round trip**: We confirm the observation during problem definition that Round trip = 0 had a better gross contribution(classifying#1).\n",
    "- **Industry**: The feature have a lot of categories. It may be best to derive a feature or a set of features from it.(creating#4)"
   ]
  },
  {
   "cell_type": "code",
   "execution_count": 10,
   "metadata": {},
   "outputs": [],
   "source": [
    "# cj[['Round_trip', 'gross']].groupby(['Round_trip'], as_index=False).mean().sort_values(by='margin', ascending=False)"
   ]
  },
  {
   "cell_type": "code",
   "execution_count": 11,
   "metadata": {},
   "outputs": [],
   "source": [
    "# cj[['Industry', 'gross']].groupby(['Industry'], as_index=False).sum().sort_values(by='gross', ascending=False).head()"
   ]
  },
  {
   "cell_type": "markdown",
   "metadata": {},
   "source": [
    "## Converting the solution goal to be categorical\n",
    "- check the plasma soup (Profit Margin correlation matrix)\n",
    "- fill up the Profit Margin col by using the correlation with other cols\n",
    "- exclude the outliers"
   ]
  },
  {
   "cell_type": "code",
   "execution_count": 12,
   "metadata": {},
   "outputs": [],
   "source": [
    "from sklearn.preprocessing import LabelEncoder"
   ]
  },
  {
   "cell_type": "code",
   "execution_count": 13,
   "metadata": {},
   "outputs": [],
   "source": [
    "# categ_col = cj.copy()\n",
    "# categ_col[['Industry', 'Country']] = categ_col[['Industry', 'Country']].apply(LabelEncoder().fit_transform)"
   ]
  },
  {
   "cell_type": "markdown",
   "metadata": {},
   "source": [
    "### Completing a numerical continuous feature\n",
    "We can consider three methods to complete a numerical continuous feature\n",
    "- A simple way is to generate random numbers between mean and standard deviation.\n",
    "- More accurate way of guessing missing values is to use other correlated features. In our case we note correlation among Age, Gender, and Pclass. Guess Age values using median values for Age across sets of Pclass and Gender feature combinations. So, median Age for Pclass=1 and Gender=0, Pclass=1 and Gender=1, and so on...\n",
    "- Combine methods 1 and 2. So instead of guessing null values based on median, use random numbers between mean and standard deviation, based on sets of Pclass and Gender combinations."
   ]
  },
  {
   "cell_type": "code",
   "execution_count": null,
   "metadata": {},
   "outputs": [],
   "source": [
    "# guess_features = np.zeros((2, 11))"
   ]
  },
  {
   "cell_type": "code",
   "execution_count": null,
   "metadata": {},
   "outputs": [],
   "source": [
    "def numerical_complete(colonne):\n",
    "    for i in range(0, 2):\n",
    "        for j in range(0, 11):\n",
    "            guess_df = categ_col[(categ_col['Round_trip'] == i) & \\\n",
    "                                  (categ_col['Country'] == j)][colonne].dropna()\n",
    "\n",
    "            col_guess = guess_df.median()\n",
    "\n",
    "            guess_features[i,j] = round(col_guess, 2)\n",
    "\n",
    "    for i in range(0, 2):\n",
    "        for j in range(0, 11):\n",
    "            categ_col.loc[ (categ_col[colonne].isnull()) & (categ_col.Round_trip == i) & (categ_col.Country == j),\\\n",
    "                    colonne] = guess_features[i,j]\n",
    "            \n",
    "    return categ_col[colonne]\n",
    "\n",
    "cj['gross'] = numerical_complete(colonne = 'gross')\n",
    "cj['Cost'] = numerical_complete(colonne = 'Cost')\n",
    "cj['passengers'] = numerical_complete(colonne = 'passengers')\n",
    "cj['Total Flight Time (Dec)'] = numerical_complete(colonne = 'Total Flight Time (Dec)')\n",
    "cj['Total Distance (NMi)'] = numerical_complete(colonne = 'Total Distance (NMi)')"
   ]
  },
  {
   "cell_type": "markdown",
   "metadata": {},
   "source": [
    "Now we could create the Profit Margin col since there is no null values in gross and cost cols, and then round them to 2 decimals."
   ]
  },
  {
   "cell_type": "code",
   "execution_count": null,
   "metadata": {},
   "outputs": [],
   "source": [
    "cj['ProfitMargin(%)'] = round(cj['gross'] / cj['Cost'] * 100, 2)\n",
    "\n",
    "# set the threshold for the dataset\n",
    "cj = cj[(cj['ProfitMargin(%)'] > 0.5) & (cj['ProfitMargin(%)'] <= 50) &(cj['gross'] > 100) & (cj['gross'] < 50000)]\n",
    "cj = cj[(cj['Product'] != 'Other') & (cj['Product'] != 'ACMI') & (cj['Product'] != 'Seat Sales') ]"
   ]
  },
  {
   "cell_type": "code",
   "execution_count": null,
   "metadata": {},
   "outputs": [],
   "source": [
    "cj[['Country', 'gross']].groupby(['Country'], as_index=False).mean().sort_values(by='gross', ascending=False)"
   ]
  },
  {
   "cell_type": "code",
   "execution_count": null,
   "metadata": {},
   "outputs": [],
   "source": [
    "cj['ProfitMargin(%)'].mean()"
   ]
  },
  {
   "cell_type": "code",
   "execution_count": null,
   "metadata": {},
   "outputs": [],
   "source": [
    "cj['gross'].sum()/67*12"
   ]
  },
  {
   "cell_type": "code",
   "execution_count": null,
   "metadata": {},
   "outputs": [],
   "source": [
    "single = cj['gross'][cj.Round_trip == 0]\n",
    "Round = cj['gross'][cj.Round_trip == 1]\n",
    "sinlge_median = single.median()\n",
    "Round_median = Round.median()\n",
    "\n",
    "plt.figure(figsize=(8,4))\n",
    "sns.kdeplot(single, shade = False, color='royalblue',\n",
    "             label = 'SingleTrip_gross')\n",
    "\n",
    "sns.kdeplot(Round, shade = False, color='firebrick',\n",
    "             label = 'RoundTrip_gross')\n",
    "\n",
    "plt.axvline(sinlge_median, color='b',linestyle=\":\",alpha=0.8) \n",
    "plt.text(sinlge_median+3000,  0.00008,'SingleTrip_gross_median: %.1fpound' % (sinlge_median), color = 'b')\n",
    "\n",
    "plt.axvline(Round_median, color='r',linestyle=\":\",alpha=0.8) \n",
    "plt.text(Round_median+3500,0.00006, 'RoundTrip_gross_median: %.1fpound' % (Round_median), color = 'r')\n",
    "\n",
    "plt.title(\"Gross Profit of the Round/Single Trip\", fontsize='large', fontweight='bold')\n",
    "plt.xlabel('Gross Profit of the CJ and Tour Ops Department')\n",
    "plt.savefig('output/triptype_gross.png', dpi=80)\n",
    "plt.show()"
   ]
  },
  {
   "cell_type": "code",
   "execution_count": null,
   "metadata": {},
   "outputs": [],
   "source": [
    "cj.drop_duplicates(subset=['gross','Cost', 'ProfitMargin(%)', 'Flight date', 'Industry'], keep='first',inplace=True)"
   ]
  },
  {
   "cell_type": "code",
   "execution_count": null,
   "metadata": {},
   "outputs": [],
   "source": [
    "CJ = cj['gross'][cj.Product == 'CJ - Adhoc']\n",
    "Tour_Ops = cj['gross'][cj.Product == 'Tour Ops']\n",
    "CJ_median = CJ.median()\n",
    "TourOps_median = Tour_Ops.median()\n",
    "\n",
    "plt.figure(figsize=(8,4))\n",
    "sns.distplot(CJ, hist = False, kde = True,\n",
    "             kde_kws={\"color\": \"royalblue\", \"lw\": 1.5, 'linestyle':'-'},\n",
    "             label = 'CJ_gross')\n",
    "\n",
    "sns.distplot(Tour_Ops, hist = False, bins=6, kde = True,\n",
    "             kde_kws={\"color\": \"firebrick\", \"lw\": 1.5, 'linestyle':'-'},\n",
    "             label = 'TourOps_gross')\n",
    "\n",
    "plt.axvline(CJ_median, color='b',linestyle=\":\",alpha=0.8) \n",
    "plt.text(CJ_median+3000,  0.0001,'CJ_gross_median: %.1fpound' % (CJ_median), color = 'b')\n",
    "\n",
    "plt.axvline(TourOps_median, color='r',linestyle=\":\",alpha=0.8) \n",
    "plt.text(TourOps_median+4000,0.00006, 'TourOps_gross_median: %.1fpound' % (TourOps_median), color = 'r')\n",
    "\n",
    "plt.title(\"Gross Profit of the CJ/TourOps Product\", fontsize='large', fontweight='bold')\n",
    "plt.xlabel('Gross Profit')\n",
    "plt.savefig('output/department_gross.png', dpi=80)\n",
    "plt.show()"
   ]
  },
  {
   "cell_type": "markdown",
   "metadata": {},
   "source": [
    "### Creating the Profit Margin(%) band"
   ]
  },
  {
   "cell_type": "code",
   "execution_count": null,
   "metadata": {},
   "outputs": [],
   "source": [
    "cj['ProfitMargin_band'] = pd.qcut(cj['ProfitMargin(%)'], 5)\n",
    "cj['ProfitMargin_band'].unique()\n",
    "# [(0.476, 5.434] < (5.434, 10.359] < (10.359, 15.283] < (15.283, 20.207] < (20.207, 25.131] < (25.131, 30.056] < (30.056, 34.98]]"
   ]
  },
  {
   "cell_type": "code",
   "execution_count": null,
   "metadata": {},
   "outputs": [],
   "source": [
    "def ProfitMargin_band(dataset):\n",
    "    dataset.loc[ dataset['ProfitMargin(%)'] <= 2.5, 'ProfitMargin(%)'] = 0\n",
    "    dataset.loc[(dataset['ProfitMargin(%)'] > 2.5) & (dataset['ProfitMargin(%)'] <= 5), 'ProfitMargin(%)'] = 1\n",
    "    dataset.loc[(dataset['ProfitMargin(%)'] > 5) & (dataset['ProfitMargin(%)'] <= 8), 'ProfitMargin(%)'] = 2\n",
    "    dataset.loc[(dataset['ProfitMargin(%)'] > 8) & (dataset['ProfitMargin(%)'] <= 13), 'ProfitMargin(%)'] = 3\n",
    "    dataset.loc[ dataset['ProfitMargin(%)'] > 13, 'ProfitMargin(%)'] =4\n",
    "    dataset['ProfitMargin(%)'] = dataset['ProfitMargin(%)'].astype(int)\n",
    "    \n",
    "ProfitMargin_band(cj)"
   ]
  },
  {
   "cell_type": "code",
   "execution_count": null,
   "metadata": {},
   "outputs": [],
   "source": [
    "len(cj)"
   ]
  },
  {
   "cell_type": "code",
   "execution_count": null,
   "metadata": {},
   "outputs": [],
   "source": [
    "g = sns.countplot(x=\"ProfitMargin(%)\", data=cj, palette='Blues_d')\n",
    "g.set_title(\"ProfitMargin Transactions Distribution\")\n",
    "total = len(cj)\n",
    "\n",
    "for p in g.patches:\n",
    "    height = p.get_height()\n",
    "    g.text(p.get_x()+p.get_width()/2.,\n",
    "            height + 30,\n",
    "            '{:1.2f}%'.format(height/total*100),\n",
    "            ha=\"center\") \n",
    "    \n",
    "sns.despine()"
   ]
  },
  {
   "cell_type": "markdown",
   "metadata": {},
   "source": [
    "### Analyze by visualizing data\n",
    "#### Correlating numerical features\n",
    "- start by understanding correlation between numerical features and our solution goal (ProfitMargin)\n",
    "\n",
    "**Observation**\n",
    "- Over 400 people flights have a high ProfitMargin rate (ProfitMargin(%) = 3)\n",
    "- Most flights carries 150 - 200 people\n",
    "- capacity with over 250 people flights have a high ProfitMargin rate\n",
    "\n",
    "**Decision**\n",
    "\n",
    "This simple analysis confirms our assumptions as decisions for subsequent workflow stages\n",
    "- we should consider passengers (correlating#1) in our model training\n",
    "- Complete the passengers feature for null values"
   ]
  },
  {
   "cell_type": "code",
   "execution_count": null,
   "metadata": {},
   "outputs": [],
   "source": [
    "import matplotlib.mlab as mlab\n",
    "import seaborn as sns"
   ]
  },
  {
   "cell_type": "code",
   "execution_count": null,
   "metadata": {},
   "outputs": [],
   "source": [
    "g = sns.FacetGrid(cj, col='ProfitMargin(%)')\n",
    "g.map(plt.hist, 'passengers', bins=50, alpha=0.8)\n",
    "sns.despine()"
   ]
  },
  {
   "cell_type": "markdown",
   "metadata": {},
   "source": [
    "#### Correlating numerical and ordinal features\n",
    "**Observations**\n",
    "- ProfitMargin(%) = 0 had most flights, and most chose to have a round trip. Confirming our classifying assumption #1.\n",
    "- high capacity aircrafts in ProfitMargin(%)=3 and ProfitMargin(%)=4 mostly chose to have a round trip.\n",
    "\n",
    "**Decision**\n",
    "- Consider Round_trip for model training"
   ]
  },
  {
   "cell_type": "code",
   "execution_count": null,
   "metadata": {},
   "outputs": [],
   "source": [
    "grid = sns.FacetGrid(cj, col='Round_trip', row='ProfitMargin(%)', aspect=1.6)\n",
    "grid.map(plt.hist, 'passengers', alpha=0.8, bins=30)\n",
    "grid.add_legend()\n",
    "sns.despine()"
   ]
  },
  {
   "cell_type": "markdown",
   "metadata": {},
   "source": [
    "### Creating the passengers band\n",
    "- since the passengers have a lot null value and it is better to make this discrete data categorical."
   ]
  },
  {
   "cell_type": "code",
   "execution_count": null,
   "metadata": {},
   "outputs": [],
   "source": [
    "cj['Passenger_band'] = pd.qcut(cj['passengers'], 4)\n",
    "cj['Passenger_band'].unique()"
   ]
  },
  {
   "cell_type": "code",
   "execution_count": null,
   "metadata": {},
   "outputs": [],
   "source": [
    "def passenger_band(dataset):\n",
    "    dataset.loc[ dataset['passengers'] <= 130, 'passengers'] = 0\n",
    "    dataset.loc[(dataset['passengers'] > 130) & (dataset['passengers'] <= 170), 'passengers'] = 1\n",
    "    dataset.loc[(dataset['passengers'] > 170) & (dataset['passengers'] <= 180), 'passengers'] = 2\n",
    "    dataset.loc[ dataset['passengers'] > 180, 'passengers'] = 3\n",
    "    dataset['passengers'] = dataset['passengers'].astype(int)\n",
    "    \n",
    "passenger_band(cj)"
   ]
  },
  {
   "cell_type": "code",
   "execution_count": null,
   "metadata": {},
   "outputs": [],
   "source": [
    "g = sns.countplot(x=\"passengers\", data=cj, palette='Blues_d')\n",
    "g.set_title(\"Passenger Number Distribution\")\n",
    "total = len(cj)\n",
    "\n",
    "for p in g.patches:\n",
    "    height = p.get_height()\n",
    "    g.text(p.get_x()+p.get_width()/2.,\n",
    "            height + 30,\n",
    "            '{:1.2f}%'.format(height/total*100),\n",
    "            ha=\"center\") \n",
    "    \n",
    "sns.despine()"
   ]
  },
  {
   "cell_type": "markdown",
   "metadata": {},
   "source": [
    "### Correcting by dropping features\n",
    "- Note that we need to split the data into train and test set for modeling"
   ]
  },
  {
   "cell_type": "code",
   "execution_count": null,
   "metadata": {},
   "outputs": [],
   "source": [
    "cj = cj.drop(['Enquiry No.', 'Job Status', 'industrycode', 'Office Country Code', 'ProfitMargin_band', 'Route code', 'Cost', 'Passenger_band'], axis=1)"
   ]
  },
  {
   "cell_type": "markdown",
   "metadata": {},
   "source": [
    "### Heatmap correlated with the solution goal"
   ]
  },
  {
   "cell_type": "code",
   "execution_count": null,
   "metadata": {},
   "outputs": [],
   "source": [
    "corrmat = cj.corr()"
   ]
  },
  {
   "cell_type": "code",
   "execution_count": null,
   "metadata": {},
   "outputs": [],
   "source": [
    "k = 10 #number of variables for heatmap\n",
    "cols = corrmat.nlargest(k, 'ProfitMargin(%)')['ProfitMargin(%)'].index\n",
    "fig, ax = plt.subplots(figsize=(9, 7))\n",
    "\n",
    "colormap = plt.cm.gist_earth\n",
    "cm = np.corrcoef(cj[cols].values.T)\n",
    "hm = sns.heatmap(cm, cbar=True, annot=True, square=True, fmt='.2f', \n",
    "                annot_kws={'size':10}, cmap=colormap, linecolor='white',\n",
    "                 linewidths=0.1, vmax=1.0, yticklabels=cols.values, xticklabels=cols.values)\n",
    "plt.show()"
   ]
  },
  {
   "cell_type": "markdown",
   "metadata": {},
   "source": [
    "#### Correlating categorical features\n",
    "Now we correlate categorical features with our solution goal.\n",
    "\n",
    "**Observations**\n",
    "- CJ product had much better ProfitMargin in switzerland if they were single trips and in US if they were round trips.\n",
    "- Exception in Seat Sales product had consideranle reward\n",
    "- ACMI had a flat fluctuation and kept a low rate\n",
    "\n",
    "**Decision**\n",
    "- Add Product and Country feature to model training"
   ]
  },
  {
   "cell_type": "code",
   "execution_count": null,
   "metadata": {},
   "outputs": [],
   "source": [
    "cj['Product'].unique()"
   ]
  },
  {
   "cell_type": "code",
   "execution_count": null,
   "metadata": {},
   "outputs": [],
   "source": [
    "g = sns.catplot(x=\"Country\", y=\"ProfitMargin(%)\",\n",
    "                hue=\"Product\", row=\"Round_trip\",\n",
    "                data=cj, kind=\"point\",\n",
    "                height=4, aspect=3, palette='ocean')\n",
    "g.savefig('PrductProfitMargin.png')\n",
    "sns.despine()"
   ]
  },
  {
   "cell_type": "markdown",
   "metadata": {},
   "source": [
    "#### Correlating categorical and numerical features\n",
    "correlate categorical featuers (with non-numeric values) and numerical values. \n",
    "\n",
    "Consider correlating Product(Categorical), Round_trip(categorical), gross(Numeric continuous), with ProfitMargin(categorical)\n",
    "\n",
    "**Observations.**\n",
    "- Single trip contributes to the higher gross in general, expection in ACMI\n",
    "- The type of products correlates with gross.\n",
    "\n",
    "**Decisions.**\n",
    "- Consider scaled the numerical values"
   ]
  },
  {
   "cell_type": "code",
   "execution_count": null,
   "metadata": {},
   "outputs": [],
   "source": [
    "grid = sns.FacetGrid(cj, row='Round_trip', col='Product')\n",
    "grid.map(sns.barplot, 'ProfitMargin(%)', 'gross', alpha=0.8, ci=None)\n",
    "grid.add_legend()\n",
    "sns.despine()"
   ]
  },
  {
   "cell_type": "markdown",
   "metadata": {},
   "source": [
    "### Canceling Orders\n",
    "- I count the number of transactions corresponding the canceled orders"
   ]
  },
  {
   "cell_type": "code",
   "execution_count": null,
   "metadata": {},
   "outputs": [],
   "source": [
    "# cancel = df_cj[df_cj['Job Status'] == 'Cancelled']\n",
    "# temp = cancel.groupby(by=['ownerid', 'Industry'], as_index=False)['Contactid'].count()\n",
    "\n",
    "# nb_cancels_per_op = temp.rename(columns = {'Contactid':'Number of flights'})\n",
    "# nb_cancels_per_op.sort_values('Number of flights', ascending=False).head(5)"
   ]
  },
  {
   "cell_type": "code",
   "execution_count": null,
   "metadata": {},
   "outputs": [],
   "source": [
    "temp = cj.groupby(by=['ownerid', 'Industry'], as_index=False)['companyid'].count()\n",
    "\n",
    "nb_flights_per_op = temp.rename(columns = {'companyid':'Number of flights'})\n",
    "nb_flights_per_op.sort_values('Number of flights', ascending=False).head(5)"
   ]
  },
  {
   "cell_type": "markdown",
   "metadata": {},
   "source": [
    "The first lines of this list shows several things worthy of interest:\n",
    "- n.196 operator has dealed 2955 order since 2014, and he has connected a strong relationship with Tour Operators\n",
    "- the business with tour operators and aircraft operator has a strong vitality\n",
    "- the existence of operators who only has just taken off his career in sales (n.136)"
   ]
  },
  {
   "cell_type": "code",
   "execution_count": 14,
   "metadata": {},
   "outputs": [],
   "source": [
    "cj.to_csv('CJ filtered.csv', index=0)"
   ]
  }
 ],
 "metadata": {
  "kernelspec": {
   "display_name": "Python 3",
   "language": "python",
   "name": "python3"
  },
  "language_info": {
   "codemirror_mode": {
    "name": "ipython",
    "version": 3
   },
   "file_extension": ".py",
   "mimetype": "text/x-python",
   "name": "python",
   "nbconvert_exporter": "python",
   "pygments_lexer": "ipython3",
   "version": "3.7.3"
  },
  "latex_envs": {
   "LaTeX_envs_menu_present": true,
   "autoclose": false,
   "autocomplete": true,
   "bibliofile": "biblio.bib",
   "cite_by": "apalike",
   "current_citInitial": 1,
   "eqLabelWithNumbers": true,
   "eqNumInitial": 1,
   "hotkeys": {
    "equation": "Ctrl-E",
    "itemize": "Ctrl-I"
   },
   "labels_anchors": false,
   "latex_user_defs": false,
   "report_style_numbering": false,
   "user_envs_cfg": false
  },
  "toc": {
   "base_numbering": 1,
   "nav_menu": {},
   "number_sections": true,
   "sideBar": true,
   "skip_h1_title": false,
   "title_cell": "Table of Contents",
   "title_sidebar": "Contents",
   "toc_cell": false,
   "toc_position": {},
   "toc_section_display": true,
   "toc_window_display": false
  }
 },
 "nbformat": 4,
 "nbformat_minor": 2
}
